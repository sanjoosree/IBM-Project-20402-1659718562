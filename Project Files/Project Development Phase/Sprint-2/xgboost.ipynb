{
  "nbformat": 4,
  "nbformat_minor": 0,
  "metadata": {
    "colab": {
      "provenance": [],
      "collapsed_sections": []
    },
    "kernelspec": {
      "name": "python3",
      "display_name": "Python 3"
    },
    "language_info": {
      "name": "python"
    }
  },
  "cells": [
    {
      "cell_type": "code",
      "execution_count": 1,
      "metadata": {
        "id": "iEPwZp2gPrj_"
      },
      "outputs": [],
      "source": [
        "import numpy as np\n",
        "import pandas as pd\n",
        "\n",
        "import matplotlib.pyplot as plt\n",
        "import seaborn as sns\n",
        "\n",
        "from imblearn.over_sampling import SMOTE\n",
        "from sklearn.preprocessing import LabelEncoder, MinMaxScaler\n",
        "from sklearn.model_selection import train_test_split, GridSearchCV\n",
        "\n",
        "from xgboost import XGBClassifier\n",
        "\n",
        "from sklearn.metrics import classification_report"
      ]
    },
    {
      "cell_type": "code",
      "source": [
        "df = pd.read_csv(\"loan_prediction.csv\")"
      ],
      "metadata": {
        "id": "rOtFu62GSAsC"
      },
      "execution_count": 2,
      "outputs": []
    },
    {
      "cell_type": "code",
      "source": [
        "df = df.drop(['Loan_ID'], axis = 1)"
      ],
      "metadata": {
        "id": "YuHXeZs4YA67"
      },
      "execution_count": 3,
      "outputs": []
    },
    {
      "cell_type": "code",
      "source": [
        "df['Gender'].fillna(df['Gender'].mode()[0],inplace=True)\n",
        "df['Married'].fillna(df['Married'].mode()[0],inplace=True)\n",
        "df['Dependents'].fillna(df['Dependents'].mode()[0],inplace=True)\n",
        "df['Self_Employed'].fillna(df['Self_Employed'].mode()[0],inplace=True)\n",
        "df['Credit_History'].fillna(df['Credit_History'].mode()[0],inplace=True)\n",
        "df['Loan_Amount_Term'].fillna(df['Loan_Amount_Term'].mode()[0],inplace=True)\n",
        "\n",
        "df['LoanAmount'].fillna(df['LoanAmount'].mean(),inplace=True)"
      ],
      "metadata": {
        "id": "B0pBq6jCYEBw"
      },
      "execution_count": 4,
      "outputs": []
    },
    {
      "cell_type": "code",
      "source": [
        "df = pd.get_dummies(df)\n",
        "\n",
        "# Drop columns\n",
        "df = df.drop(['Gender_Female', 'Married_No', 'Education_Not Graduate', \n",
        "              'Self_Employed_No', 'Loan_Status_N'], axis = 1)\n",
        "\n",
        "# Rename columns name\n",
        "new = {'Gender_Male': 'Gender', 'Married_Yes': 'Married', \n",
        "       'Education_Graduate': 'Education', 'Self_Employed_Yes': 'Self_Employed',\n",
        "       'Loan_Status_Y': 'Loan_Status'}\n",
        "       \n",
        "df.rename(columns=new, inplace=True)"
      ],
      "metadata": {
        "id": "PDfbq6LzYKBx"
      },
      "execution_count": 5,
      "outputs": []
    },
    {
      "cell_type": "code",
      "source": [
        "Q1 = df.quantile(0.25)\n",
        "Q3 = df.quantile(0.75)\n",
        "IQR = Q3 - Q1\n",
        "\n",
        "df = df[~((df < (Q1 - 1.5 * IQR)) |(df > (Q3 + 1.5 * IQR))).any(axis=1)]"
      ],
      "metadata": {
        "id": "5jPymJSKYMWh"
      },
      "execution_count": 6,
      "outputs": []
    },
    {
      "cell_type": "code",
      "source": [
        "df.ApplicantIncome = np.sqrt(df.ApplicantIncome)\n",
        "df.CoapplicantIncome = np.sqrt(df.CoapplicantIncome)\n",
        "df.LoanAmount = np.sqrt(df.LoanAmount)"
      ],
      "metadata": {
        "id": "uHJMMueAYPYR"
      },
      "execution_count": 7,
      "outputs": []
    },
    {
      "cell_type": "code",
      "source": [
        "X = df.drop([\"Loan_Status\"], axis=1)\n",
        "y = df[\"Loan_Status\"]"
      ],
      "metadata": {
        "id": "YeEq7da5YULx"
      },
      "execution_count": 8,
      "outputs": []
    },
    {
      "cell_type": "code",
      "source": [
        "X, y = SMOTE().fit_resample(X, y)"
      ],
      "metadata": {
        "id": "EFu0HNTzYWDR"
      },
      "execution_count": 9,
      "outputs": []
    },
    {
      "cell_type": "code",
      "source": [
        "X = MinMaxScaler().fit_transform(X)"
      ],
      "metadata": {
        "id": "qW1oWQdnYZJK"
      },
      "execution_count": 10,
      "outputs": []
    },
    {
      "cell_type": "code",
      "source": [
        "X_train, X_test, y_train, y_test = train_test_split(X, y, test_size = 0.2, random_state = 0)"
      ],
      "metadata": {
        "id": "t3QN05VkYcoJ"
      },
      "execution_count": 11,
      "outputs": []
    },
    {
      "cell_type": "code",
      "source": [
        "params_xg = {'max_depth':np.arange(3,10)}\n",
        "xg_gs = GridSearchCV(XGBClassifier(),params_xg,cv=5)\n",
        "xg_gs.fit(X_train,y_train)"
      ],
      "metadata": {
        "id": "vwQIMV9ZWldw",
        "colab": {
          "base_uri": "https://localhost:8080/"
        },
        "outputId": "a5241bdf-8405-4388-a814-028104658471"
      },
      "execution_count": 12,
      "outputs": [
        {
          "output_type": "execute_result",
          "data": {
            "text/plain": [
              "GridSearchCV(cv=5, estimator=XGBClassifier(),\n",
              "             param_grid={'max_depth': array([3, 4, 5, 6, 7, 8, 9])})"
            ]
          },
          "metadata": {},
          "execution_count": 12
        }
      ]
    },
    {
      "cell_type": "code",
      "source": [
        "print(xg_gs.best_estimator_)"
      ],
      "metadata": {
        "colab": {
          "base_uri": "https://localhost:8080/"
        },
        "id": "LugvCz0Kbs37",
        "outputId": "3d2f6cc5-ef05-4667-956a-5a828b6ba44b"
      },
      "execution_count": 13,
      "outputs": [
        {
          "output_type": "stream",
          "name": "stdout",
          "text": [
            "XGBClassifier(max_depth=6)\n"
          ]
        }
      ]
    },
    {
      "cell_type": "code",
      "source": [
        "xgboost_model = XGBClassifier(max_depth=6)\n",
        "xgboost_model.fit(X_train,y_train)"
      ],
      "metadata": {
        "colab": {
          "base_uri": "https://localhost:8080/"
        },
        "id": "rPyWybYLcG2L",
        "outputId": "3922489d-6aba-4598-840d-607a23034c7a"
      },
      "execution_count": 14,
      "outputs": [
        {
          "output_type": "execute_result",
          "data": {
            "text/plain": [
              "XGBClassifier(max_depth=6)"
            ]
          },
          "metadata": {},
          "execution_count": 14
        }
      ]
    },
    {
      "cell_type": "code",
      "source": [
        "y_predict = xgboost_model.predict(X_test)"
      ],
      "metadata": {
        "id": "GYqJTt4qazTK"
      },
      "execution_count": 15,
      "outputs": []
    },
    {
      "cell_type": "code",
      "source": [
        "print(classification_report(y_test,y_predict))"
      ],
      "metadata": {
        "colab": {
          "base_uri": "https://localhost:8080/"
        },
        "id": "QF4kMn_zbSdp",
        "outputId": "ae06c591-0fc5-4fd2-a21a-8de3535b0745"
      },
      "execution_count": 16,
      "outputs": [
        {
          "output_type": "stream",
          "name": "stdout",
          "text": [
            "              precision    recall  f1-score   support\n",
            "\n",
            "           0       0.78      0.91      0.84        23\n",
            "           1       0.89      0.73      0.80        22\n",
            "\n",
            "    accuracy                           0.82        45\n",
            "   macro avg       0.83      0.82      0.82        45\n",
            "weighted avg       0.83      0.82      0.82        45\n",
            "\n"
          ]
        }
      ]
    }
  ]
}